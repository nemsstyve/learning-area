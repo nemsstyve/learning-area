{
  "nbformat": 4,
  "nbformat_minor": 0,
  "metadata": {
    "colab": {
      "name": "Cours.ipynb",
      "provenance": [],
      "collapsed_sections": [],
      "authorship_tag": "ABX9TyOAaprdetO3KmMXv/FJi5Wd",
      "include_colab_link": true
    },
    "kernelspec": {
      "name": "python3",
      "display_name": "Python 3"
    },
    "language_info": {
      "name": "python"
    }
  },
  "cells": [
    {
      "cell_type": "markdown",
      "metadata": {
        "id": "view-in-github",
        "colab_type": "text"
      },
      "source": [
        "<a href=\"https://colab.research.google.com/github/nemsstyve/learning-area/blob/main/Cours.ipynb\" target=\"_parent\"><img src=\"https://colab.research.google.com/assets/colab-badge.svg\" alt=\"Open In Colab\"/></a>"
      ]
    },
    {
      "cell_type": "code",
      "execution_count": null,
      "metadata": {
        "colab": {
          "base_uri": "https://localhost:8080/"
        },
        "id": "-BEFa6tMqdYN",
        "outputId": "c55999d7-5859-47b7-d73b-2270e9070942"
      },
      "outputs": [
        {
          "output_type": "stream",
          "name": "stdout",
          "text": [
            "2 1\n"
          ]
        }
      ],
      "source": [
        "A = 1\n",
        "B = 2\n",
        "\n",
        "C = A\n",
        "A = B\n",
        "B = C\n",
        "print(A,B)"
      ]
    },
    {
      "cell_type": "code",
      "source": [
        "A = 1\n",
        "if A == 1:\n",
        "  print(\"MCDO\")\n",
        "  print(\"KFC\")\n",
        "else:\n",
        "  print(\"Burger King\")\n",
        "\n",
        "if A != 2:\n",
        "  print(\"SUSHI\")\n",
        "if A > 2:\n",
        "  print(\"MAISON\")\n",
        "if 10 < A < 100:\n",
        "  print(\"COMMANDER\")\n",
        "\n",
        "if A == 1 or A == 2:\n",
        "  print(A)"
      ],
      "metadata": {
        "colab": {
          "base_uri": "https://localhost:8080/"
        },
        "id": "L9OjHD3H4r9u",
        "outputId": "c9396aed-e0bd-4874-ac04-f5a86338052d"
      },
      "execution_count": null,
      "outputs": [
        {
          "output_type": "stream",
          "name": "stdout",
          "text": [
            "MCDO\n",
            "KFC\n",
            "SUSHI\n",
            "1\n"
          ]
        }
      ]
    },
    {
      "cell_type": "code",
      "source": [
        "A = int(input())\n",
        "if A%2 == 0:\n",
        "  print(\"pair\")\n",
        "else:\n",
        "  print(\"impair\")"
      ],
      "metadata": {
        "colab": {
          "base_uri": "https://localhost:8080/"
        },
        "id": "2lWTsEcF-Dxm",
        "outputId": "1f80442d-be3c-4709-8de9-d6f34000c596"
      },
      "execution_count": null,
      "outputs": [
        {
          "output_type": "stream",
          "name": "stdout",
          "text": [
            "3\n",
            "impair\n"
          ]
        }
      ]
    },
    {
      "cell_type": "code",
      "source": [
        "price = 100\n",
        "choice = input()\n",
        "if choice == \"Etu\":\n",
        "  price *= 0.86\n",
        "elif choice == \"Sen\":\n",
        "  price *= 0.80\n",
        "\n",
        "print(price)"
      ],
      "metadata": {
        "colab": {
          "base_uri": "https://localhost:8080/"
        },
        "id": "UGtnFFNN_lg3",
        "outputId": "673ad5b0-fddb-43e6-cd9b-9e75473de2f5"
      },
      "execution_count": null,
      "outputs": [
        {
          "output_type": "stream",
          "name": "stdout",
          "text": [
            "Etu\n",
            "86.0\n"
          ]
        }
      ]
    },
    {
      "cell_type": "code",
      "source": [
        "year = 1997\n",
        "if year%4 == 0 and year%100 != 0 or year%400 == 0:\n",
        "  print(\"Bissextile\")\n",
        "else:\n",
        "  print(\"non Bissextile\")"
      ],
      "metadata": {
        "colab": {
          "base_uri": "https://localhost:8080/"
        },
        "id": "t4ELwaGXJRRs",
        "outputId": "491be39e-9789-48a4-b24e-36c425e8754a"
      },
      "execution_count": null,
      "outputs": [
        {
          "output_type": "stream",
          "name": "stdout",
          "text": [
            "non Bissextile\n"
          ]
        }
      ]
    },
    {
      "cell_type": "code",
      "source": [
        "for i in range(100):\n",
        "  if i%2 == 0:\n",
        "    print(i)"
      ],
      "metadata": {
        "colab": {
          "base_uri": "https://localhost:8080/"
        },
        "id": "4JRqPRwLPweF",
        "outputId": "490e14d8-44a3-4194-92aa-e33e5cdf6b2a"
      },
      "execution_count": null,
      "outputs": [
        {
          "output_type": "stream",
          "name": "stdout",
          "text": [
            "0\n",
            "2\n",
            "4\n",
            "6\n",
            "8\n",
            "10\n",
            "12\n",
            "14\n",
            "16\n",
            "18\n",
            "20\n",
            "22\n",
            "24\n",
            "26\n",
            "28\n",
            "30\n",
            "32\n",
            "34\n",
            "36\n",
            "38\n",
            "40\n",
            "42\n",
            "44\n",
            "46\n",
            "48\n",
            "50\n",
            "52\n",
            "54\n",
            "56\n",
            "58\n",
            "60\n",
            "62\n",
            "64\n",
            "66\n",
            "68\n",
            "70\n",
            "72\n",
            "74\n",
            "76\n",
            "78\n",
            "80\n",
            "82\n",
            "84\n",
            "86\n",
            "88\n",
            "90\n",
            "92\n",
            "94\n",
            "96\n",
            "98\n"
          ]
        }
      ]
    },
    {
      "cell_type": "code",
      "source": [
        "A = 0\n",
        "for i in range(10):\n",
        "  A += i\n",
        "  print(A)"
      ],
      "metadata": {
        "colab": {
          "base_uri": "https://localhost:8080/"
        },
        "id": "pDzfm_AZRNsW",
        "outputId": "c58e8142-df92-443d-c59a-51e0e0dff0bd"
      },
      "execution_count": null,
      "outputs": [
        {
          "output_type": "stream",
          "name": "stdout",
          "text": [
            "0\n",
            "1\n",
            "3\n",
            "6\n",
            "10\n",
            "15\n",
            "21\n",
            "28\n",
            "36\n",
            "45\n"
          ]
        }
      ]
    },
    {
      "cell_type": "code",
      "source": [
        "#@title Titre par défaut\n",
        "from random import randint\n",
        "Acc = 0\n",
        "for _ in range(10):\n",
        "  note = randint(0,200)/10\n",
        "  Acc += note\n",
        "\n",
        "print(note/10)"
      ],
      "metadata": {
        "colab": {
          "base_uri": "https://localhost:8080/"
        },
        "id": "N515CUIgTRRh",
        "outputId": "5a1ebac3-8a91-4ff6-8b22-ae8e4c918216",
        "cellView": "code"
      },
      "execution_count": null,
      "outputs": [
        {
          "output_type": "stream",
          "name": "stdout",
          "text": [
            "1.01\n"
          ]
        }
      ]
    },
    {
      "cell_type": "code",
      "source": [
        "X = int(input())\n",
        "i = 0\n",
        "while i < 10:\n",
        "  print(X,\"X\",i,\"=\", i*X)\n",
        "  i = i+1"
      ],
      "metadata": {
        "colab": {
          "base_uri": "https://localhost:8080/"
        },
        "id": "EoePMK89UUGt",
        "outputId": "96946a86-d5ad-46db-8db9-48dcb7538b48"
      },
      "execution_count": null,
      "outputs": [
        {
          "output_type": "stream",
          "name": "stdout",
          "text": [
            "2\n",
            "2 X 0 = 0\n",
            "2 X 1 = 2\n",
            "2 X 2 = 4\n",
            "2 X 3 = 6\n",
            "2 X 4 = 8\n",
            "2 X 5 = 10\n",
            "2 X 6 = 12\n",
            "2 X 7 = 14\n",
            "2 X 8 = 16\n",
            "2 X 9 = 18\n"
          ]
        }
      ]
    },
    {
      "cell_type": "code",
      "source": [
        "fact = int(input())\n",
        "if fact == 0:\n",
        "    print(1)\n",
        "else:\n",
        "  while fact < 0:\n",
        "    print(\"error\")\n",
        "    fact = int(input())\n",
        "    i = 1\n",
        "  result = 1\n",
        "  while i <= fact:\n",
        "    result = result * i\n",
        "    i = i + 1\n",
        "  print(result)"
      ],
      "metadata": {
        "colab": {
          "base_uri": "https://localhost:8080/"
        },
        "id": "-SFhE9R8XFbM",
        "outputId": "f0c7f39e-96d5-420d-8f09-ff51c5dcbb01"
      },
      "execution_count": null,
      "outputs": [
        {
          "output_type": "stream",
          "name": "stdout",
          "text": [
            "10\n",
            "10\n"
          ]
        }
      ]
    },
    {
      "cell_type": "code",
      "source": [
        "nterms = int(input(\"Entrez un nombre: \"))\n",
        " \n",
        "n1 = 0\n",
        "n2 = 1\n",
        " \n",
        "print(\"\\n la suite fibonacci est :\")\n",
        "print(n1, \",\", n2, end=\", \")\n",
        " \n",
        "for i in range(2, nterms):\n",
        "  suivant = n1 + n2\n",
        "  print(suivant, end=\", \")\n",
        " \n",
        "  n1 = n2\n",
        "  n2 = suivant"
      ],
      "metadata": {
        "colab": {
          "base_uri": "https://localhost:8080/"
        },
        "id": "d1aomUJhtjaj",
        "outputId": "94d76b65-1d62-4cf8-db60-abfa27d0344f"
      },
      "execution_count": null,
      "outputs": [
        {
          "output_type": "stream",
          "name": "stdout",
          "text": [
            "Entrez un nombre: 300\n",
            "\n",
            " la suite fibonacci est :\n",
            "0 , 1, 1, 2, 3, 5, 8, 13, 21, 34, 55, 89, 144, 233, 377, 610, 987, 1597, 2584, 4181, 6765, 10946, 17711, 28657, 46368, 75025, 121393, 196418, 317811, 514229, 832040, 1346269, 2178309, 3524578, 5702887, 9227465, 14930352, 24157817, 39088169, 63245986, 102334155, 165580141, 267914296, 433494437, 701408733, 1134903170, 1836311903, 2971215073, 4807526976, 7778742049, 12586269025, 20365011074, 32951280099, 53316291173, 86267571272, 139583862445, 225851433717, 365435296162, 591286729879, 956722026041, 1548008755920, 2504730781961, 4052739537881, 6557470319842, 10610209857723, 17167680177565, 27777890035288, 44945570212853, 72723460248141, 117669030460994, 190392490709135, 308061521170129, 498454011879264, 806515533049393, 1304969544928657, 2111485077978050, 3416454622906707, 5527939700884757, 8944394323791464, 14472334024676221, 23416728348467685, 37889062373143906, 61305790721611591, 99194853094755497, 160500643816367088, 259695496911122585, 420196140727489673, 679891637638612258, 1100087778366101931, 1779979416004714189, 2880067194370816120, 4660046610375530309, 7540113804746346429, 12200160415121876738, 19740274219868223167, 31940434634990099905, 51680708854858323072, 83621143489848422977, 135301852344706746049, 218922995834555169026, 354224848179261915075, 573147844013817084101, 927372692193078999176, 1500520536206896083277, 2427893228399975082453, 3928413764606871165730, 6356306993006846248183, 10284720757613717413913, 16641027750620563662096, 26925748508234281076009, 43566776258854844738105, 70492524767089125814114, 114059301025943970552219, 184551825793033096366333, 298611126818977066918552, 483162952612010163284885, 781774079430987230203437, 1264937032042997393488322, 2046711111473984623691759, 3311648143516982017180081, 5358359254990966640871840, 8670007398507948658051921, 14028366653498915298923761, 22698374052006863956975682, 36726740705505779255899443, 59425114757512643212875125, 96151855463018422468774568, 155576970220531065681649693, 251728825683549488150424261, 407305795904080553832073954, 659034621587630041982498215, 1066340417491710595814572169, 1725375039079340637797070384, 2791715456571051233611642553, 4517090495650391871408712937, 7308805952221443105020355490, 11825896447871834976429068427, 19134702400093278081449423917, 30960598847965113057878492344, 50095301248058391139327916261, 81055900096023504197206408605, 131151201344081895336534324866, 212207101440105399533740733471, 343358302784187294870275058337, 555565404224292694404015791808, 898923707008479989274290850145, 1454489111232772683678306641953, 2353412818241252672952597492098, 3807901929474025356630904134051, 6161314747715278029583501626149, 9969216677189303386214405760200, 16130531424904581415797907386349, 26099748102093884802012313146549, 42230279526998466217810220532898, 68330027629092351019822533679447, 110560307156090817237632754212345, 178890334785183168257455287891792, 289450641941273985495088042104137, 468340976726457153752543329995929, 757791618667731139247631372100066, 1226132595394188293000174702095995, 1983924214061919432247806074196061, 3210056809456107725247980776292056, 5193981023518027157495786850488117, 8404037832974134882743767626780173, 13598018856492162040239554477268290, 22002056689466296922983322104048463, 35600075545958458963222876581316753, 57602132235424755886206198685365216, 93202207781383214849429075266681969, 150804340016807970735635273952047185, 244006547798191185585064349218729154, 394810887814999156320699623170776339, 638817435613190341905763972389505493, 1033628323428189498226463595560281832, 1672445759041379840132227567949787325, 2706074082469569338358691163510069157, 4378519841510949178490918731459856482, 7084593923980518516849609894969925639, 11463113765491467695340528626429782121, 18547707689471986212190138521399707760, 30010821454963453907530667147829489881, 48558529144435440119720805669229197641, 78569350599398894027251472817058687522, 127127879743834334146972278486287885163, 205697230343233228174223751303346572685, 332825110087067562321196029789634457848, 538522340430300790495419781092981030533, 871347450517368352816615810882615488381, 1409869790947669143312035591975596518914, 2281217241465037496128651402858212007295, 3691087032412706639440686994833808526209, 5972304273877744135569338397692020533504, 9663391306290450775010025392525829059713, 15635695580168194910579363790217849593217, 25299086886458645685589389182743678652930, 40934782466626840596168752972961528246147, 66233869353085486281758142155705206899077, 107168651819712326877926895128666735145224, 173402521172797813159685037284371942044301, 280571172992510140037611932413038677189525, 453973694165307953197296969697410619233826, 734544867157818093234908902110449296423351, 1188518561323126046432205871807859915657177, 1923063428480944139667114773918309212080528, 3111581989804070186099320645726169127737705, 5034645418285014325766435419644478339818233, 8146227408089084511865756065370647467555938, 13180872826374098837632191485015125807374171, 21327100234463183349497947550385773274930109, 34507973060837282187130139035400899082304280, 55835073295300465536628086585786672357234389, 90343046356137747723758225621187571439538669, 146178119651438213260386312206974243796773058, 236521166007575960984144537828161815236311727, 382699285659014174244530850035136059033084785, 619220451666590135228675387863297874269396512, 1001919737325604309473206237898433933302481297, 1621140188992194444701881625761731807571877809, 2623059926317798754175087863660165740874359106, 4244200115309993198876969489421897548446236915, 6867260041627791953052057353082063289320596021, 11111460156937785151929026842503960837766832936, 17978720198565577104981084195586024127087428957, 29090180355503362256910111038089984964854261893, 47068900554068939361891195233676009091941690850, 76159080909572301618801306271765994056795952743, 123227981463641240980692501505442003148737643593, 199387062373213542599493807777207997205533596336, 322615043836854783580186309282650000354271239929, 522002106210068326179680117059857997559804836265, 844617150046923109759866426342507997914076076194, 1366619256256991435939546543402365995473880912459, 2211236406303914545699412969744873993387956988653, 3577855662560905981638959513147239988861837901112, 5789092068864820527338372482892113982249794889765, 9366947731425726508977331996039353971111632790877, 15156039800290547036315704478931467953361427680642, 24522987531716273545293036474970821924473060471519, 39679027332006820581608740953902289877834488152161, 64202014863723094126901777428873111802307548623680, 103881042195729914708510518382775401680142036775841, 168083057059453008835412295811648513482449585399521, 271964099255182923543922814194423915162591622175362, 440047156314635932379335110006072428645041207574883, 712011255569818855923257924200496343807632829750245, 1152058411884454788302593034206568772452674037325128, 1864069667454273644225850958407065116260306867075373, 3016128079338728432528443992613633888712980904400501, 4880197746793002076754294951020699004973287771475874, 7896325826131730509282738943634332893686268675876375, 12776523572924732586037033894655031898659556447352249, 20672849399056463095319772838289364792345825123228624, 33449372971981195681356806732944396691005381570580873, 54122222371037658776676579571233761483351206693809497, 87571595343018854458033386304178158174356588264390370, 141693817714056513234709965875411919657707794958199867, 229265413057075367692743352179590077832064383222590237, 370959230771131880927453318055001997489772178180790104, 600224643828207248620196670234592075321836561403380341, 971183874599339129547649988289594072811608739584170445, 1571408518427546378167846658524186148133445300987550786, 2542592393026885507715496646813780220945054040571721231, 4114000911454431885883343305337966369078499341559272017, 6656593304481317393598839952151746590023553382130993248, 10770594215935749279482183257489712959102052723690265265, 17427187520417066673081023209641459549125606105821258513, 28197781736352815952563206467131172508227658829511523778, 45624969256769882625644229676772632057353264935332782291, 73822750993122698578207436143903804565580923764844306069, 119447720249892581203851665820676436622934188700177088360, 193270471243015279782059101964580241188515112465021394429, 312718191492907860985910767785256677811449301165198482789, 505988662735923140767969869749836918999964413630219877218, 818706854228831001753880637535093596811413714795418360007, 1324695516964754142521850507284930515811378128425638237225, 2143402371193585144275731144820024112622791843221056597232, 3468097888158339286797581652104954628434169971646694834457, 5611500259351924431073312796924978741056961814867751431689, 9079598147510263717870894449029933369491131786514446266146, 14691098406862188148944207245954912110548093601382197697835, 23770696554372451866815101694984845480039225387896643963981, 38461794961234640015759308940939757590587318989278841661816, 62232491515607091882574410635924603070626544377175485625797, 100694286476841731898333719576864360661213863366454327287613, 162926777992448823780908130212788963731840407743629812913410, 263621064469290555679241849789653324393054271110084140201023, 426547842461739379460149980002442288124894678853713953114433, 690168906931029935139391829792095612517948949963798093315456, 1116716749392769314599541809794537900642843628817512046429889, 1806885656323799249738933639586633513160792578781310139745345, 2923602405716568564338475449381171413803636207598822186175234, 4730488062040367814077409088967804926964428786380132325920579, 7654090467756936378415884538348976340768064993978954512095813, 12384578529797304192493293627316781267732493780359086838016392, 20038668997554240570909178165665757608500558774338041350112205, 32423247527351544763402471792982538876233052554697128188128597, 52461916524905785334311649958648296484733611329035169538240802, 84885164052257330097714121751630835360966663883732297726369399, 137347080577163115432025771710279131845700275212767467264610201, "
          ]
        }
      ]
    },
    {
      "cell_type": "code",
      "source": [
        "import random\n",
        "nbr = input(\"Entrez un nombre\")\n",
        "n = random.randint(0,100)\n",
        "appreciation = \"?\"\n",
        "while True:\n",
        "    var = input(\"Entrez un nombre\")\n",
        "    var = int(var)\n",
        "    if var < n :\n",
        "        appreciation = \"trop bas\"\n",
        "        print(var, appreciation)\n",
        "    else :\n",
        "        appreciation = \"trop haut\"\n",
        "        print(var, appreciation)\n",
        "    if var == n:\n",
        "        appreciation = \"bravo !\"\n",
        "        print(var, appreciation)\n",
        "        break"
      ],
      "metadata": {
        "id": "vB0Kinus4484"
      },
      "execution_count": null,
      "outputs": []
    },
    {
      "cell_type": "code",
      "source": [
        "from random import randint\n",
        "secret_value = randint(0,100)\n",
        "user_value = int(input())\n",
        "\n",
        "while user_value != secret_value:\n",
        "  if user_value > secret_value:\n",
        "    print(\"trop haut\")\n",
        "  else:\n",
        "    print(\"trop bas\")\n",
        "  user_value = int(input())\n",
        "  \n",
        "print(\"gagné\")"
      ],
      "metadata": {
        "id": "sQyZrbAmHviF"
      },
      "execution_count": null,
      "outputs": []
    },
    {
      "cell_type": "code",
      "source": [
        "def print_coucou(txt,nb):\n",
        "  for i in range(nb):\n",
        "    print(txt)"
      ],
      "metadata": {
        "id": "hevTWKRFM7Dp"
      },
      "execution_count": null,
      "outputs": []
    },
    {
      "cell_type": "code",
      "source": [
        "txt = input()\n",
        "print_coucou(txt,3)\n",
        "print_coucou(\"Hello\",5)\n",
        "print_coucou(123,2)"
      ],
      "metadata": {
        "colab": {
          "base_uri": "https://localhost:8080/"
        },
        "id": "H9NUdcp4Nn-b",
        "outputId": "c90e3338-bd8a-44ae-9719-e1097b58cddb"
      },
      "execution_count": null,
      "outputs": [
        {
          "output_type": "stream",
          "name": "stdout",
          "text": [
            "Bonjour\n",
            "Bonjour\n",
            "Bonjour\n",
            "Bonjour\n",
            "Hello\n",
            "Hello\n",
            "Hello\n",
            "Hello\n",
            "Hello\n",
            "123\n",
            "123\n"
          ]
        }
      ]
    },
    {
      "cell_type": "code",
      "source": [
        "def ten_times(s):\n",
        "  for i in range(s):\n",
        "    print(s)"
      ],
      "metadata": {
        "id": "SvWboxpxUIJG"
      },
      "execution_count": null,
      "outputs": []
    },
    {
      "cell_type": "code",
      "source": [
        "def multi(x):\n",
        "  for i in range(1,11,1):\n",
        "    print(i*x)"
      ],
      "metadata": {
        "id": "f1DZOUf8VWRk"
      },
      "execution_count": null,
      "outputs": []
    },
    {
      "cell_type": "code",
      "source": [
        "def is_positive(x):\n",
        "  if i <= 0:\n",
        "    print(\"error\")\n",
        "  else:\n",
        "    multi(x)"
      ],
      "metadata": {
        "id": "d5Vo6cQrWFVH"
      },
      "execution_count": null,
      "outputs": []
    },
    {
      "cell_type": "code",
      "source": [
        "def power1(A,B):\n",
        "  return A**B\n",
        "\n",
        "def power2(A,B):\n",
        "  Acc = 1\n",
        "  for _ in range(0,B,1):\n",
        "    Acc *= A\n",
        "    return Acc"
      ],
      "metadata": {
        "id": "0fmzIr6mXx_2"
      },
      "execution_count": null,
      "outputs": []
    },
    {
      "cell_type": "code",
      "source": [
        "  print(power2(2,5))"
      ],
      "metadata": {
        "colab": {
          "base_uri": "https://localhost:8080/"
        },
        "id": "Kzqiyxy6Kvip",
        "outputId": "e9db2d4b-d815-4e65-e291-293895342e2e"
      },
      "execution_count": null,
      "outputs": [
        {
          "output_type": "stream",
          "name": "stdout",
          "text": [
            "2\n"
          ]
        }
      ]
    },
    {
      "cell_type": "code",
      "source": [
        "def Is_prime(x):\n",
        "  if x > 1:\n",
        "    for i in range(2,x,1):\n",
        "      if x%i == 0:\n",
        "        return False\n",
        "    return True\n",
        "if Is_prime(13):\n",
        "  print(\"It is a prime number\")      "
      ],
      "metadata": {
        "id": "0_a8ZoBgY3b-",
        "colab": {
          "base_uri": "https://localhost:8080/"
        },
        "outputId": "98d995d5-01a2-4ed8-9bab-f12cb553d08b"
      },
      "execution_count": null,
      "outputs": [
        {
          "output_type": "stream",
          "name": "stdout",
          "text": [
            "It is a prime number\n"
          ]
        }
      ]
    },
    {
      "cell_type": "code",
      "source": [
        "def isitPrime(k):\n",
        "    if k==2 or k==3: return True\n",
        "    if k%2==0 or k<2: return False\n",
        "    for i in range(3, int(k**0.5)+1, 2):\n",
        "        if k%i==0:\n",
        "            return False\n",
        "\n",
        "    return True\n",
        "print(isitPrime(10))"
      ],
      "metadata": {
        "colab": {
          "base_uri": "https://localhost:8080/"
        },
        "id": "JtMCu_TcH-WP",
        "outputId": "887ecf2d-57a7-4f0d-81ad-6c5c6b61e8d5"
      },
      "execution_count": null,
      "outputs": [
        {
          "output_type": "stream",
          "name": "stdout",
          "text": [
            "False\n"
          ]
        }
      ]
    },
    {
      "cell_type": "code",
      "source": [
        "def Is_prime(limit):\n",
        "  for i in range (2,limit,1):\n",
        "    if Is_prime(i):\n",
        "      print(i)"
      ],
      "metadata": {
        "id": "6y7A6CRKMiYz"
      },
      "execution_count": null,
      "outputs": []
    },
    {
      "cell_type": "code",
      "source": [
        "def list_zero():\n",
        "  L = []\n",
        "  for i in range(0,50,1):\n",
        "    L.append(0)\n",
        "  return L\n",
        "R = list_zero() \n",
        "print(R)"
      ],
      "metadata": {
        "colab": {
          "base_uri": "https://localhost:8080/"
        },
        "id": "V11nEDZD1-KJ",
        "outputId": "814e62db-7de8-459a-aced-500c88d14aba"
      },
      "execution_count": null,
      "outputs": [
        {
          "output_type": "stream",
          "name": "stdout",
          "text": [
            "[0, 0, 0, 0, 0, 0, 0, 0, 0, 0, 0, 0, 0, 0, 0, 0, 0, 0, 0, 0, 0, 0, 0, 0, 0, 0, 0, 0, 0, 0, 0, 0, 0, 0, 0, 0, 0, 0, 0, 0, 0, 0, 0, 0, 0, 0, 0, 0, 0, 0]\n"
          ]
        }
      ]
    },
    {
      "cell_type": "code",
      "source": [
        "def list_indice():\n",
        "  L = []\n",
        "  for i in range(20):\n",
        "    L.append(i)\n",
        "  return L\n",
        "R = list_indice()\n",
        "print(R)"
      ],
      "metadata": {
        "colab": {
          "base_uri": "https://localhost:8080/"
        },
        "id": "Lcw_KyFu5CSh",
        "outputId": "9e39f3c5-93d0-403d-bfc2-b133b19cd848"
      },
      "execution_count": null,
      "outputs": [
        {
          "output_type": "stream",
          "name": "stdout",
          "text": [
            "[0, 1, 2, 3, 4, 5, 6, 7, 8, 9, 10, 11, 12, 13, 14, 15, 16, 17, 18, 19]\n"
          ]
        }
      ]
    },
    {
      "cell_type": "code",
      "source": [
        "from random import randint\n",
        "def list_random():\n",
        "  L = []\n",
        "  for i in range(0,X,1):\n",
        "    L.append(randint(min,max))\n",
        "  return L\n",
        "R = list_random(10,5,20)\n",
        "print(R)"
      ],
      "metadata": {
        "id": "RBjh88vv_bMg"
      },
      "execution_count": null,
      "outputs": []
    },
    {
      "cell_type": "code",
      "source": [
        "def Mean(list_note):\n",
        "  Sum = 0\n",
        "  for note in list_note:\n",
        "    Sum += note\n",
        "  result = Sum / len(list_note)\n",
        "  return result\n",
        "l = list_random(1000,0,20)\n",
        "M = Mean(l)\n",
        "print(M)"
      ],
      "metadata": {
        "id": "ROYM4kzzBkAR"
      },
      "execution_count": null,
      "outputs": []
    },
    {
      "cell_type": "code",
      "source": [
        "L1 = [1,2,3]\n",
        "L2 = [4,5,6]\n",
        "Result = L1 + L2\n",
        "def concat (L1,L2):\n",
        "  for val in L2:\n",
        "    L1.append(val)\n",
        "  return L1\n",
        "print(result)"
      ],
      "metadata": {
        "colab": {
          "base_uri": "https://localhost:8080/"
        },
        "id": "4zr32Gk8Rb6d",
        "outputId": "225a675b-73bc-479d-a1e5-985122157b99"
      },
      "execution_count": null,
      "outputs": [
        {
          "output_type": "stream",
          "name": "stdout",
          "text": [
            "[1, 2, 3, 4, 5, 6]\n"
          ]
        }
      ]
    },
    {
      "cell_type": "code",
      "source": [
        "L = [0,0,0,0,0,1,0,2,1,0,1,0,2,1,1,2,1,2,0]\n",
        "def del_zero(L):\n",
        "  while 0 in L:\n",
        "    L.remove(0)\n",
        "  return L\n",
        "print(del_zero(L))"
      ],
      "metadata": {
        "colab": {
          "base_uri": "https://localhost:8080/"
        },
        "id": "hA-Q0Eq8SLUR",
        "outputId": "81880e75-688d-4eec-a4ee-283dfd78a783"
      },
      "execution_count": null,
      "outputs": [
        {
          "output_type": "stream",
          "name": "stdout",
          "text": [
            "[1, 2, 1, 1, 2, 1, 1, 2, 1, 2]\n"
          ]
        }
      ]
    },
    {
      "cell_type": "code",
      "source": [
        "L = [2,4,5,7,9,13,14,16,20,21,28,29,34,35,36,40,42,46,49,51,52,53]\n",
        "#O(nlog(n))\n",
        "\n",
        "def search(L,X):\n",
        "  if len(L) == 0:\n",
        "    return False\n",
        "\n",
        "  pivot = L[len(L)//2]\n",
        "\n",
        "  if pivot == X:\n",
        "    return True\n",
        "  elif X > pivot:\n",
        "    L = L[len(L)//2 + 1:]\n",
        "  elif X < pivot:\n",
        "    L = L[:len(L)//2]\n",
        "\n",
        "  return search(L,X)\n",
        "\n",
        "L = [2,4,5,7,9,13,14,16,20,21,28,29,34,35,36,40,42,46,49,51,52,53]\n",
        "print(search(L,13))"
      ],
      "metadata": {
        "colab": {
          "base_uri": "https://localhost:8080/"
        },
        "id": "i5aR2C2SvibV",
        "outputId": "19fd57cb-1d8c-4689-b517-b562bfaebc59"
      },
      "execution_count": 1,
      "outputs": [
        {
          "output_type": "stream",
          "name": "stdout",
          "text": [
            "True\n"
          ]
        }
      ]
    },
    {
      "cell_type": "code",
      "source": [
        "L = [1,2,3,4,5]\n",
        "\n",
        "print(L[1]) #O(1)\n",
        "\n",
        "for val in L:\n",
        "  print(val) #O(n)\n",
        "\n",
        "for val in L:\n",
        "  for val2 in L:\n",
        "    print(val + val2) #O(n²)"
      ],
      "metadata": {
        "id": "6pia34xxyjOm"
      },
      "execution_count": null,
      "outputs": []
    },
    {
      "cell_type": "code",
      "source": [
        "def Min (L):\n",
        "  min = L[0]\n",
        "  for val in L:\n",
        "    if val < min:\n",
        "      min = val\n",
        "  return min\n",
        "\n",
        "def tri_selection(L):\n",
        "  L2 = []\n",
        "  while len(L) > 0:\n",
        "    min = Min(L)\n",
        "    L2.append(min)\n",
        "    L.remove(min)\n",
        "  return L2\n",
        "\n",
        "L = list_random(100000,0,1000)\n",
        "print(tri_selection(L))"
      ],
      "metadata": {
        "id": "ycU60ur-yvKs"
      },
      "execution_count": null,
      "outputs": []
    },
    {
      "cell_type": "code",
      "source": [
        "L = [4,5,4,8,6,5,7,4,1,2,5,4,8,9,6,3,2,5,2,1,4,2,1]\n",
        "\n",
        "def tri_rapide(L):\n",
        "\n",
        "  if len(L) <= 1:\n",
        "    return L\n",
        "\n",
        "  pivot = L[0]\n",
        "  Lmin = []\n",
        "  Lmid = []\n",
        "  Lmax = []\n",
        "  for val in L:\n",
        "    if val == pivot:\n",
        "      Lmid.append(val)\n",
        "    elif val < pivot:\n",
        "      Lmin.append(val)\n",
        "    else:\n",
        "      Lmax.append(val)\n",
        "  \n",
        "  return tri_rapide(Lmin) + Lmid + tri_rapide(Lmax)\n",
        "\n",
        "L = list_random(1000000,0,1000)\n",
        "print(tri_rapide(L))"
      ],
      "metadata": {
        "id": "StxDQnTb8cKN"
      },
      "execution_count": null,
      "outputs": []
    }
  ]
}