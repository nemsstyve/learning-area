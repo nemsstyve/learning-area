{
  "nbformat": 4,
  "nbformat_minor": 0,
  "metadata": {
    "colab": {
      "name": "Cours.ipynb",
      "provenance": [],
      "authorship_tag": "ABX9TyO4lVMQ+rCgSqJdARs0VYVc",
      "include_colab_link": true
    },
    "kernelspec": {
      "name": "python3",
      "display_name": "Python 3"
    },
    "language_info": {
      "name": "python"
    }
  },
  "cells": [
    {
      "cell_type": "markdown",
      "metadata": {
        "id": "view-in-github",
        "colab_type": "text"
      },
      "source": [
        "<a href=\"https://colab.research.google.com/github/nemsstyve/learning-area/blob/main/Cours.ipynb\" target=\"_parent\"><img src=\"https://colab.research.google.com/assets/colab-badge.svg\" alt=\"Open In Colab\"/></a>"
      ]
    },
    {
      "cell_type": "code",
      "execution_count": 4,
      "metadata": {
        "colab": {
          "base_uri": "https://localhost:8080/"
        },
        "id": "-BEFa6tMqdYN",
        "outputId": "c55999d7-5859-47b7-d73b-2270e9070942"
      },
      "outputs": [
        {
          "output_type": "stream",
          "name": "stdout",
          "text": [
            "2 1\n"
          ]
        }
      ],
      "source": [
        "A = 1\n",
        "B = 2\n",
        "\n",
        "C = A\n",
        "A = B\n",
        "B = C\n",
        "print(A,B)"
      ]
    },
    {
      "cell_type": "code",
      "source": [
        "A = 1\n",
        "if A == 1:\n",
        "  print(\"MCDO\")\n",
        "  print(\"KFC\")\n",
        "else:\n",
        "  print(\"Burger King\")\n",
        "\n",
        "if A != 2:\n",
        "  print(\"SUSHI\")\n",
        "if A > 2:\n",
        "  print(\"MAISON\")\n",
        "if 10 < A < 100:\n",
        "  print(\"COMMANDER\")\n",
        "\n",
        "if A == 1 or A == 2:\n",
        "  print(A)"
      ],
      "metadata": {
        "colab": {
          "base_uri": "https://localhost:8080/"
        },
        "id": "L9OjHD3H4r9u",
        "outputId": "c9396aed-e0bd-4874-ac04-f5a86338052d"
      },
      "execution_count": 6,
      "outputs": [
        {
          "output_type": "stream",
          "name": "stdout",
          "text": [
            "MCDO\n",
            "KFC\n",
            "SUSHI\n",
            "1\n"
          ]
        }
      ]
    },
    {
      "cell_type": "code",
      "source": [
        "A = int(input())\n",
        "if A%2 == 0:\n",
        "  print(\"pair\")\n",
        "else:\n",
        "  print(\"impair\")"
      ],
      "metadata": {
        "colab": {
          "base_uri": "https://localhost:8080/"
        },
        "id": "2lWTsEcF-Dxm",
        "outputId": "1f80442d-be3c-4709-8de9-d6f34000c596"
      },
      "execution_count": 12,
      "outputs": [
        {
          "output_type": "stream",
          "name": "stdout",
          "text": [
            "3\n",
            "impair\n"
          ]
        }
      ]
    },
    {
      "cell_type": "code",
      "source": [
        "price = 100\n",
        "choice = input()\n",
        "if choice == \"Etu\":\n",
        "  price *= 0.86\n",
        "elif choice == \"Sen\":\n",
        "  price *= 0.80\n",
        "\n",
        "print(price)"
      ],
      "metadata": {
        "colab": {
          "base_uri": "https://localhost:8080/"
        },
        "id": "UGtnFFNN_lg3",
        "outputId": "673ad5b0-fddb-43e6-cd9b-9e75473de2f5"
      },
      "execution_count": 16,
      "outputs": [
        {
          "output_type": "stream",
          "name": "stdout",
          "text": [
            "Etu\n",
            "86.0\n"
          ]
        }
      ]
    },
    {
      "cell_type": "code",
      "source": [
        "year = 1997\n",
        "if year%4 == 0 and year%100 != 0 or year%400 == 0:\n",
        "  print(\"Bissextile\")\n",
        "else:\n",
        "  print(\"non Bissextile\")"
      ],
      "metadata": {
        "colab": {
          "base_uri": "https://localhost:8080/"
        },
        "id": "t4ELwaGXJRRs",
        "outputId": "491be39e-9789-48a4-b24e-36c425e8754a"
      },
      "execution_count": 15,
      "outputs": [
        {
          "output_type": "stream",
          "name": "stdout",
          "text": [
            "non Bissextile\n"
          ]
        }
      ]
    },
    {
      "cell_type": "code",
      "source": [
        "for i in range(100):\n",
        "  if i%2 == 0:\n",
        "    print(i)"
      ],
      "metadata": {
        "colab": {
          "base_uri": "https://localhost:8080/"
        },
        "id": "4JRqPRwLPweF",
        "outputId": "490e14d8-44a3-4194-92aa-e33e5cdf6b2a"
      },
      "execution_count": 18,
      "outputs": [
        {
          "output_type": "stream",
          "name": "stdout",
          "text": [
            "0\n",
            "2\n",
            "4\n",
            "6\n",
            "8\n",
            "10\n",
            "12\n",
            "14\n",
            "16\n",
            "18\n",
            "20\n",
            "22\n",
            "24\n",
            "26\n",
            "28\n",
            "30\n",
            "32\n",
            "34\n",
            "36\n",
            "38\n",
            "40\n",
            "42\n",
            "44\n",
            "46\n",
            "48\n",
            "50\n",
            "52\n",
            "54\n",
            "56\n",
            "58\n",
            "60\n",
            "62\n",
            "64\n",
            "66\n",
            "68\n",
            "70\n",
            "72\n",
            "74\n",
            "76\n",
            "78\n",
            "80\n",
            "82\n",
            "84\n",
            "86\n",
            "88\n",
            "90\n",
            "92\n",
            "94\n",
            "96\n",
            "98\n"
          ]
        }
      ]
    },
    {
      "cell_type": "code",
      "source": [
        "A = 0\n",
        "for i in range(10):\n",
        "  A += i\n",
        "  print(A)"
      ],
      "metadata": {
        "colab": {
          "base_uri": "https://localhost:8080/"
        },
        "id": "pDzfm_AZRNsW",
        "outputId": "c58e8142-df92-443d-c59a-51e0e0dff0bd"
      },
      "execution_count": 19,
      "outputs": [
        {
          "output_type": "stream",
          "name": "stdout",
          "text": [
            "0\n",
            "1\n",
            "3\n",
            "6\n",
            "10\n",
            "15\n",
            "21\n",
            "28\n",
            "36\n",
            "45\n"
          ]
        }
      ]
    },
    {
      "cell_type": "code",
      "source": [
        "from random import randint\n",
        "X = randint(0,10)\n",
        "print(X)"
      ],
      "metadata": {
        "colab": {
          "base_uri": "https://localhost:8080/"
        },
        "id": "N515CUIgTRRh",
        "outputId": "fcdb66c4-3164-48aa-d457-3d30402dc4a9"
      },
      "execution_count": 21,
      "outputs": [
        {
          "output_type": "stream",
          "name": "stdout",
          "text": [
            "10\n"
          ]
        }
      ]
    },
    {
      "cell_type": "code",
      "source": [
        "X = int(input())\n",
        "i = 0\n",
        "while i < 10:\n",
        "  print(X, \"X\", \"=\", i*X)\n",
        "  i = i+1"
      ],
      "metadata": {
        "colab": {
          "base_uri": "https://localhost:8080/"
        },
        "id": "EoePMK89UUGt",
        "outputId": "8ec755a3-f9c0-48d5-e1dc-a62a4fc790f5"
      },
      "execution_count": 23,
      "outputs": [
        {
          "output_type": "stream",
          "name": "stdout",
          "text": [
            "2\n",
            "2 X = 0\n",
            "2 X = 2\n",
            "2 X = 4\n",
            "2 X = 6\n",
            "2 X = 8\n",
            "2 X = 10\n",
            "2 X = 12\n",
            "2 X = 14\n",
            "2 X = 16\n",
            "2 X = 18\n"
          ]
        }
      ]
    },
    {
      "cell_type": "code",
      "source": [
        "fact = int(input())\n",
        "if fact == 0:\n",
        "    print(1)\n",
        "else:\n",
        "  while fact < 0:\n",
        "    print(\"error\")\n",
        "    fact = int(input())\n",
        "    i = 1\n",
        "  result = 1\n",
        "  while i <= fact:\n",
        "    result = result * i\n",
        "    i = i + 1\n",
        "  print(result)"
      ],
      "metadata": {
        "colab": {
          "base_uri": "https://localhost:8080/"
        },
        "id": "-SFhE9R8XFbM",
        "outputId": "86208d7f-dfb1-42d6-81e4-30df49f3ccf9"
      },
      "execution_count": 25,
      "outputs": [
        {
          "output_type": "stream",
          "name": "stdout",
          "text": [
            "2\n",
            "1\n"
          ]
        }
      ]
    }
  ]
}